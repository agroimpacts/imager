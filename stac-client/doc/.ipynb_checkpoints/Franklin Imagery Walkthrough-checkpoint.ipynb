{
 "cells": [
  {
   "cell_type": "markdown",
   "id": "e606d005",
   "metadata": {},
   "source": [
    "# Transitioning to Franklin from Raster Foundry\n",
    "\n",
    "This notebook contains a walkthrough for interacting with Franklin, a [STAC API server](https://github.com/radiantearth/stac-api-spec) implementation, over HTTP.\n",
    "\n",
    "The purpose of Franklin is to replace the data management and visualization capabilities that you currently rely on Raster Foundry for.\n",
    "\n",
    "While with Raster Foundry you created _projects_ and used cloud-optimized GeoTIFFs to create _scenes_, with Franklin you'll\n",
    "create [_collections_](../create_collection.py) and use cloud-optimized GeoTIFFs to create [_items_](../create_item.py).\n",
    "\n",
    "## Creating a collection\n",
    "\n",
    "In Raster Foundry, a `project` was the entity responsible for associating several COGs so you could view a tile layer that they all contribute to. In Franklin, `collections` serve the same purpose. You can read more about collections in the [collection specification](https://github.com/radiantearth/stac-spec/blob/v1.0.0/collection-spec/collection-spec.md).\n",
    "\n",
    "To create a collection, you can run the `create_collection.py` script:\n",
    "\n",
    "```bash\n",
    "$ python create_collection.py --help\n",
    "Usage: create_collection.py [OPTIONS] NAME\n",
    "\n",
    "Options:\n",
    "  -d, --description TEXT          Collection description. This should be a\n",
    "                                  short punchy phrase that describes what\n",
    "                                  kinds of items can be found in this\n",
    "                                  collection\n",
    "  --bbox BBOX                     Bounding box in comma-separated lower left\n",
    "                                  x, lower left y, upper right x, upper right\n",
    "                                  y format. This will expand as you add items,\n",
    "                                  so picking a small bbox in the appropriate\n",
    "                                  area makes sense to start.  [required]\n",
    "  --start-date [%Y-%m-%d|%Y-%m-%dT%H:%M:%S|%Y-%m-%d %H:%M:%S]\n",
    "                                  Datetime marking the beginning of coverage\n",
    "                                  for this collection. Provide as an ISO 8601\n",
    "                                  timestamp without a time zone -- it will be\n",
    "                                  parsed as UTC. Defaults to now.  [required]\n",
    "  --end-date [%Y-%m-%d|%Y-%m-%dT%H:%M:%S|%Y-%m-%d %H:%M:%S]\n",
    "                                  Datetime marking the end of coverage for\n",
    "                                  this collection. Provide as an ISO 8601\n",
    "                                  timestamp without a time zone -- it will be\n",
    "                                  parsed as UTC. Defaults to now.  [required]\n",
    "  --license TEXT                  License of the underlying data. You can use\n",
    "                                  identifiers from\n",
    "                                  https://spdx.github.io/license-list-data/ in\n",
    "                                  this field or the string \"proprietary\"\n",
    "  --api-host TEXT                 The root of the STAC API you'd like to\n",
    "                                  interact with. Defaults to localhost:9090\n",
    "  --api-scheme TEXT               The scheme to use for API communication.\n",
    "                                  Defaults to http\n",
    "  --help                          Show this message and exit.\n",
    "```\n",
    "\n",
    "Creating a collection requires you to provide:\n",
    "\n",
    "- `--start-date` and `--end-date` arguments. These arguments are formatted like ISO 8601 dates and define the [_temporal extent_](https://github.com/radiantearth/stac-spec/blob/v1.0.0/collection-spec/collection-spec.md#temporal-extent-object) of the collection. To start, you can specify a relatively narrow temporal extent -- as you add items it will automatically expand.\n",
    "- a `--bbox` argument. This argument defines the [_spatial extent_](https://github.com/radiantearth/stac-spec/blob/v1.0.0/collection-spec/collection-spec.md#spatial-extent-object) of the collection. Similar to the temporal extent, it's sufficient to define a narrow area that you know you'll cover, since this will also expand as you add items to the collection.\n",
    "\n",
    "Let's create a collection called `demo-collection` now. This collection will have a temporal extent covering July 2021 and a bbox covering a small point in the Canary Islands."
   ]
  },
  {
   "cell_type": "code",
   "execution_count": null,
   "id": "40f3f0e7",
   "metadata": {},
   "outputs": [],
   "source": [
    "%%bash\n",
    "python ../create_collection.py \\\n",
    "    demo-collection \\\n",
    "    --start-date 2021-07-01 \\\n",
    "    --end-date 2021-08-01 \\\n",
    "    --bbox -15.63,27.98,-15.60,27.99"
   ]
  },
  {
   "cell_type": "markdown",
   "id": "8e61d00b",
   "metadata": {},
   "source": [
    "After creating the collection, we can inspect it at `localhost:9090/collections/demo-collection`:"
   ]
  },
  {
   "cell_type": "code",
   "execution_count": null,
   "id": "36a96d25",
   "metadata": {},
   "outputs": [],
   "source": [
    "import requests\n",
    "\n",
    "requests.get(\"http://localhost:9090/collections/demo-collection\").json()"
   ]
  },
  {
   "cell_type": "markdown",
   "id": "afd9dadc",
   "metadata": {},
   "source": [
    "## Creating items\n",
    "\n",
    "In Raster Foundry, you created _scenes_ with pointers to where the server could find a cloud-optimized GeoTIFF. In Franklin, we'll instead create _items_ and store information about where to find the COG in the item's [_assets_](https://github.com/radiantearth/stac-spec/blob/v1.0.0/item-spec/item-spec.md#asset-object). You can read more about items in the [items specification](https://github.com/radiantearth/stac-spec/blob/v1.0.0/item-spec/item-spec.md).\n",
    "\n",
    "You create items with the `create_item.py` script:\n",
    "\n",
    "```bash\n",
    "$ python create_item.py --help\n",
    "Usage: create_item.py [OPTIONS] ITEM_ID [%Y-%m-%d|%Y-%m-%dT%H:%M:%S|%Y-%m-%d\n",
    "                      %H:%M:%S] COG_PATH COLLECTION_ID\n",
    "\n",
    "Options:\n",
    "  --eo-data PATH       Path to JSON containing information to fill in the EO\n",
    "                       extension for this item. You can read more about the EO\n",
    "                       extension at https://github.com/stac-\n",
    "                       extensions/eo/tree/v1.0.0\n",
    "  --cloud-cover FLOAT  Estimated cloud cover of the image\n",
    "  --api-host TEXT      The root of the STAC API you'd like to interact with.\n",
    "                       Defaults to localhost:9090\n",
    "  --api-scheme TEXT    The scheme to use for API communication. Defaults to\n",
    "                       http\n",
    "  --help               Show this message and exit.\n",
    "```\n",
    "\n",
    "The required options for an item are an id, a date time, a path to a COG that you can read, and a collection to hold the item. While you could create a scene outside of a project in Raster Foundry, in Franklin, **you cannot create an item outside of a collection**.\n",
    "\n",
    "Let's create two items, both of which point to COGs of Sentinel-2 imagery over the Canary Islands. You'll need to set an `AWS_PROFILE` environment variable to read the COGs linked here, but it doesn't matter which one."
   ]
  },
  {
   "cell_type": "code",
   "execution_count": null,
   "id": "a08f6c50",
   "metadata": {},
   "outputs": [],
   "source": [
    "%%bash\n",
    "AWS_PROFILE=default \\\n",
    "python ../create_item.py \\\n",
    "    demo-item-1 \\\n",
    "    2021-07-18 \\\n",
    "    s3://rasterfoundry-production-data-us-east-1/demo-cogs/s2-canary-islands-rgb-cog.tif \\\n",
    "    demo-collection"
   ]
  },
  {
   "cell_type": "code",
   "execution_count": null,
   "id": "3db0a21f",
   "metadata": {},
   "outputs": [],
   "source": [
    "%%bash\n",
    "AWS_PROFILE=default \\\n",
    "python ../create_item.py \\\n",
    "    demo-item-2 \\\n",
    "    2021-07-18 \\\n",
    "    s3://rasterfoundry-production-data-us-east-1/demo-cogs/s2-canary-islands-rgb-cog-2.tif \\\n",
    "    demo-collection"
   ]
  },
  {
   "cell_type": "markdown",
   "id": "fb10523a",
   "metadata": {},
   "source": [
    "After creating the items, we can verify that the collection knows about them by querying its `items` endpoint:"
   ]
  },
  {
   "cell_type": "code",
   "execution_count": null,
   "id": "c1748455",
   "metadata": {},
   "outputs": [],
   "source": [
    "resp = requests.get(\"http://localhost:9090/collections/demo-collection/items\").json()\n",
    "resp"
   ]
  },
  {
   "cell_type": "markdown",
   "id": "9e548399",
   "metadata": {},
   "source": [
    "And if we're specifically interested in the `assets` each item has, we can extract that information from the response's `features` key:"
   ]
  },
  {
   "cell_type": "code",
   "execution_count": null,
   "id": "83383d53",
   "metadata": {},
   "outputs": [],
   "source": [
    "[x[\"assets\"] for x in resp[\"features\"]]"
   ]
  },
  {
   "cell_type": "markdown",
   "id": "3b14d8f5",
   "metadata": {},
   "source": [
    "## Viewing tiles\n",
    "\n",
    "Note that each of the items above has a key named `cog` in its `assets` property. Because items can have multiple assets, several of which can be tiled, Franklin requires one additional layer in order to produce tiles for a collection that wasn't required in Raster Foundry. This layer is a _mosaic definition_.\n",
    "\n",
    "A _mosaic definition_ is a JSON document that describes which images you want to contribute to the resulting tiles and offers some metadata that could be useful for clients.\n",
    "\n",
    "Here's an example document:\n",
    "\n",
    "```json\n",
    "{\n",
    "    \"id\": \"d9b4db0f-7d80-4d96-b176-15a1400c01de\",\n",
    "    \"description\": null,\n",
    "    \"center\": [\n",
    "        -16.16291,\n",
    "        28.2916,\n",
    "        14\n",
    "    ],\n",
    "    \"items\": [\n",
    "        {\n",
    "            \"itemId\": \"demo-item-1\",\n",
    "            \"assetName\": \"cog\"\n",
    "        },\n",
    "        {\n",
    "            \"itemId\": \"demo-item-2\",\n",
    "            \"assetName\": \"cog\"\n",
    "        }\n",
    "    ],\n",
    "    \"minZoom\": 2,\n",
    "    \"maxZoom\": 30,\n",
    "    \"bounds\": [\n",
    "        -180,\n",
    "        -90,\n",
    "        180,\n",
    "        90\n",
    "    ]\n",
    "}\n",
    "```\n",
    "\n",
    "You can create a mosaic definition with the `create_mosaic_definition.py` script:\n",
    "\n",
    "```bash\n",
    "$ python create_mosaic_definition.py --help\n",
    "Usage: create_mosaic_definition.py [OPTIONS]\n",
    "\n",
    "Options:\n",
    "  --collection-id TEXT    Which collection holds the items of this mosaic\n",
    "                          [required]\n",
    "  --items-csv PATH        Path to a CSV of (itemId, assetName) pairs\n",
    "                          [required]\n",
    "  -d, --description TEXT  Description of the what this mosaic represents\n",
    "  --center CENTER         x,y (longitude,latitude) of the center of this\n",
    "                          mosaic  [required]\n",
    "  --center-zoom TEXT      The zoom a client should choose on first load of\n",
    "                          this mosaic  [required]\n",
    "  --min-zoom INTEGER      Minimum zoom level clients should view to consume\n",
    "                          this mosaic\n",
    "  --max-zoom INTEGER      Maximum zoom level clients should view to consume\n",
    "                          this mosaic\n",
    "  --bounds BBOX           Bounding box in which this mosaic has coverage\n",
    "  --api-host TEXT         The root of the STAC API you'd like to interact\n",
    "                          with. Defaults to localhost:9090\n",
    "  --api-scheme TEXT       The scheme to use for API communication. Defaults to\n",
    "                          http\n",
    "  --help                  Show this message and exit.\n",
    "```\n",
    "\n",
    "Creating a mosaic definition requires you to provide:\n",
    "\n",
    "- a `collection-id`. This argument indicates which collection the items you provide are associated with. For us this will be `demo-collection`.\n",
    "- an `--items-csv` path. This argument says where to find a CSV where each row is an item ID in the collection and an asset name that exists on that item. We'll create the items CSV below in a moment.\n",
    "- a `--center`. This argument is a point that clients can consume to choose where to center maps while viewing this collection.\n",
    "- a `--center-zoom`. This argument tells clients what zoom level they should choose when they begin to view this mosaic.\n",
    "\n",
    "Note that you don't need to provide an `id`, since we can create one on the fly when we POST the JSON document.\n",
    "\n",
    "To create the items CSV, we'll write our demo items' IDs and assets into a file:"
   ]
  },
  {
   "cell_type": "code",
   "execution_count": null,
   "id": "1fc03c20",
   "metadata": {},
   "outputs": [],
   "source": [
    "import csv\n",
    "\n",
    "item_assets = [(\"demo-item-1\", \"cog\"), (\"demo-item-2\", \"cog\")]\n",
    "with open(\"../item-assets.csv\", \"w\", newline=\"\") as outf:\n",
    "    writer = csv.writer(outf)\n",
    "    for ia in item_assets:\n",
    "        writer.writerow(ia)"
   ]
  },
  {
   "cell_type": "markdown",
   "id": "54ac1236",
   "metadata": {},
   "source": [
    "We already know everything else we need, so we can create our mosaic definition:"
   ]
  },
  {
   "cell_type": "code",
   "execution_count": null,
   "id": "0016700f",
   "metadata": {
    "scrolled": true
   },
   "outputs": [],
   "source": [
    "%%bash\n",
    "python ../create_mosaic_definition.py \\\n",
    "    --collection-id demo-collection \\\n",
    "    --items-csv ../item-assets.csv \\\n",
    "    --center -15.8,28.4 \\\n",
    "    --center-zoom 12 \\"
   ]
  },
  {
   "cell_type": "markdown",
   "id": "12c5cf1d",
   "metadata": {},
   "source": [
    "We can view the JSON representation of your mosaic under its associated collection. For example, we can copy the `/collections/demo-collection/mosaic/<id>` URL segment above to view the mosaic you just created:"
   ]
  },
  {
   "cell_type": "code",
   "execution_count": null,
   "id": "cc138bd8",
   "metadata": {},
   "outputs": [],
   "source": [
    "segment = \"PASTE YOUR SEGMENT HERE\"\n",
    "requests.get(f\"http://localhost:9090{segment}\").json()"
   ]
  },
  {
   "cell_type": "markdown",
   "id": "7a572d6d",
   "metadata": {},
   "source": [
    "Or you can view all of the mosaics you've created for a collection by sending a GET request to its `/mosaic` route:"
   ]
  },
  {
   "cell_type": "code",
   "execution_count": null,
   "id": "fb1b09ba",
   "metadata": {},
   "outputs": [],
   "source": [
    "requests.get(f\"http://localhost:9090/collections/demo-collection/mosaic\").json()"
   ]
  },
  {
   "cell_type": "markdown",
   "id": "e46b547f",
   "metadata": {},
   "source": [
    "We can use the mosaic JSON information in clients to tell libraries like Leaflet about the min and max zoom for your layer, where to center the map, and in what bounding box data is defined."
   ]
  },
  {
   "cell_type": "markdown",
   "id": "e9b70818",
   "metadata": {},
   "source": [
    "If you actually want to view tiles, you can put the tile URL above (the link ending in `/{z}/{x}/{y}`) into anything that can view TMS raster tiles. Two good options are QGIS and geojson.io. To view tiles in QGIS, create a new connection under XYZ Tiles in the Browser pane. To view tiles in geojson.io, choose \"Add map layer\" under \"Meta\" and paste your URL. Note you may have to fix the text entry in geojson.io, since it has a habit of URL-encoding what you paste even where the template braces are appropriate.\n",
    "\n",
    "You can control the visualization with `redBand`, `greenBand`, and `blueBand` parameters for RGB selection and with `upperQuantile` and `lowerQuantile` parameters for controlling the histogram stretch."
   ]
  }
 ],
 "metadata": {
  "kernelspec": {
   "display_name": "Python 3",
   "language": "python",
   "name": "python3"
  },
  "language_info": {
   "codemirror_mode": {
    "name": "ipython",
    "version": 3
   },
   "file_extension": ".py",
   "mimetype": "text/x-python",
   "name": "python",
   "nbconvert_exporter": "python",
   "pygments_lexer": "ipython3",
   "version": "3.8.5"
  }
 },
 "nbformat": 4,
 "nbformat_minor": 5
}
