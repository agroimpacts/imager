{
 "cells": [
  {
   "cell_type": "markdown",
   "id": "e606d005",
   "metadata": {},
   "source": [
    "# Transitioning to Franklin from Raster Foundry\n",
    "\n",
    "This notebook contains a walkthrough for interacting with Franklin, a [STAC API server](https://github.com/radiantearth/stac-api-spec) implementation, over HTTP.\n",
    "\n",
    "The purpose of Franklin is to replace the data management and visualization capabilities that you currently rely on Raster Foundry for.\n",
    "\n",
    "While with Raster Foundry you created [_projects_](../planet/rasterfoundry_create_project.py) and used cloud-optimized GeoTIFFs to create [_scenes_](../planet/rasterfoundry_register_scene.py), with Franklin you'll\n",
    "create [_collections_](./create_collection.py) and use cloud-optimized GeoTIFFs to create [_items_](./create_item.py).\n",
    "\n",
    "## Creating a collection\n",
    "\n",
    "In Raster Foundry, a `project` was the entity responsible for associating several COGs so you could view a tile layer that they all contribute to. In Franklin, `collections` serve the same purpose.\n",
    "\n",
    "To create a collection, you can run the `create_collection.py` script:\n",
    "\n",
    "```bash\n",
    "$ python create_collection.py --help\n",
    "Usage: create_collection.py [OPTIONS] NAME\n",
    "\n",
    "Options:\n",
    "  -d, --description TEXT          Collection description. This should be a\n",
    "                                  short punchy phrase that describes what\n",
    "                                  kinds of items can be found in this\n",
    "                                  collection\n",
    "  --bbox BBOX                     Bounding box in comma-separated lower left\n",
    "                                  x, lower left y, upper right x, upper right\n",
    "                                  y format. This will expand as you add items,\n",
    "                                  so picking a small bbox in the appropriate\n",
    "                                  area makes sense to start.  [required]\n",
    "  --start-date [%Y-%m-%d|%Y-%m-%dT%H:%M:%S|%Y-%m-%d %H:%M:%S]\n",
    "                                  Datetime marking the beginning of coverage\n",
    "                                  for this collection. Provide as an ISO 8601\n",
    "                                  timestamp without a time zone -- it will be\n",
    "                                  parsed as UTC. Defaults to now.  [required]\n",
    "  --end-date [%Y-%m-%d|%Y-%m-%dT%H:%M:%S|%Y-%m-%d %H:%M:%S]\n",
    "                                  Datetime marking the end of coverage for\n",
    "                                  this collection. Provide as an ISO 8601\n",
    "                                  timestamp without a time zone -- it will be\n",
    "                                  parsed as UTC. Defaults to now.  [required]\n",
    "  --license TEXT                  License of the underlying data. You can use\n",
    "                                  identifiers from\n",
    "                                  https://spdx.github.io/license-list-data/ in\n",
    "                                  this field or the string \"proprietary\"\n",
    "  --api-host TEXT                 The root of the STAC API you'd like to\n",
    "                                  interact with. Defaults to localhost:9090\n",
    "  --api-scheme TEXT               The scheme to use for API communication.\n",
    "                                  Defaults to http\n",
    "  --help                          Show this message and exit.\n",
    "```\n",
    "\n",
    "Creating a collection requires you to provide:\n",
    "\n",
    "- `--start-date` and `--end-date` arguments. These arguments are formatted like ISO 8601 dates and define the [_temporal extent_](https://github.com/radiantearth/stac-spec/blob/v1.0.0/collection-spec/collection-spec.md#temporal-extent-object) of the collection. To start, you can specify a relatively narrow temporal extent -- as you add items it will automatically expand.\n",
    "- a `--bbox` argument. This argument defines the [_spatial extent_](https://github.com/radiantearth/stac-spec/blob/v1.0.0/collection-spec/collection-spec.md#spatial-extent-object) of the collection. Similar to the temporal extent, it's sufficient to define a narrow area that you know you'll cover, since this will also expand as you add items to the collection.\n",
    "\n",
    "Let's create a collection called `demo-collection` now. This collection will have a temporal extent covering July 2021 and a bbox covering a small point in the Canary Islands."
   ]
  },
  {
   "cell_type": "code",
   "execution_count": 6,
   "id": "40f3f0e7",
   "metadata": {},
   "outputs": [
    {
     "name": "stdout",
     "output_type": "stream",
     "text": [
      "Request json: {'type': 'Collection', 'id': 'demo-collection', 'stac_version': '1.0.0', 'description': 'A STAC collection for Agro Impacts', 'links': [], 'stac_extensions': [], 'title': 'demo-collection', 'extent': {'spatial': {'bbox': [[-15.63, 27.98, -15.6, 27.99]]}, 'temporal': {'interval': [['2021-07-01T00:00:00Z', '2021-08-01T00:00:00Z']]}}, 'license': 'proprietary'}\n",
      "Created collection at /collections/demo-collection\n"
     ]
    }
   ],
   "source": [
    "%%bash\n",
    "python ../create_collection.py \\\n",
    "    demo-collection \\\n",
    "    --start-date 2021-07-01 \\\n",
    "    --end-date 2021-08-01 \\\n",
    "    --bbox -15.63,27.98,-15.60,27.99"
   ]
  },
  {
   "cell_type": "markdown",
   "id": "8e61d00b",
   "metadata": {},
   "source": [
    "After creating the collection, we can inspect it at `localhost:9090/collections/demo-collection`:"
   ]
  },
  {
   "cell_type": "code",
   "execution_count": 7,
   "id": "36a96d25",
   "metadata": {},
   "outputs": [
    {
     "data": {
      "text/plain": [
       "{'type': 'Collection',\n",
       " 'stac_version': '1.0.0',\n",
       " 'stac_extensions': [],\n",
       " 'id': 'demo-collection',\n",
       " 'title': 'demo-collection',\n",
       " 'description': 'A STAC collection for Agro Impacts',\n",
       " 'keywords': [],\n",
       " 'license': 'proprietary',\n",
       " 'providers': [],\n",
       " 'extent': {'spatial': {'bbox': [[-17.072753906249986,\n",
       "     0.0,\n",
       "     1.0,\n",
       "     28.94086176940554]]},\n",
       "  'temporal': {'interval': [['2021-01-01T00:00:00Z',\n",
       "     '2021-08-01T00:00:00Z']]}},\n",
       " 'summaries': {},\n",
       " 'properties': {},\n",
       " 'links': [{'href': 'http://localhost:9090/collections/demo-collection/tiles',\n",
       "   'rel': 'tiles',\n",
       "   'type': 'application/json',\n",
       "   'title': 'Tile URLs for Collection'},\n",
       "  {'href': 'http://localhost:9090/collections/demo-collection',\n",
       "   'rel': 'self',\n",
       "   'type': 'application/json',\n",
       "   'title': 'demo-collection'},\n",
       "  {'href': 'http://localhost:9090', 'rel': 'root', 'type': 'application/json'},\n",
       "  {'href': 'http://localhost:9090/collections/demo-collection/mosaic/d9b4db0f-7d80-4d96-b176-15a1400c01de',\n",
       "   'rel': 'mosaic-definition',\n",
       "   'type': 'application/json',\n",
       "   'title': 'Mosaic d9b4db0f-7d80-4d96-b176-15a1400c01de'}]}"
      ]
     },
     "execution_count": 7,
     "metadata": {},
     "output_type": "execute_result"
    }
   ],
   "source": [
    "import requests\n",
    "\n",
    "requests.get(\"http://localhost:9090/collections/demo-collection\").json()"
   ]
  },
  {
   "cell_type": "markdown",
   "id": "afd9dadc",
   "metadata": {},
   "source": [
    "## Creating items\n",
    "\n",
    "In Raster Foundry, you created _scenes_ with pointers to where the server could find a cloud-optimized GeoTIFF. In Franklin, we'll instead create [_items_](https://github.com/radiantearth/stac-spec/blob/v1.0.0/item-spec/item-spec.md) and store information about where to find the COG in the item's [_assets_](https://github.com/radiantearth/stac-spec/blob/v1.0.0/item-spec/item-spec.md#asset-object).\n",
    "\n",
    "You create items with the `create_item.py` script:\n",
    "\n",
    "```bash\n",
    "$ python create_item.py --help\n",
    "Usage: create_item.py [OPTIONS] ITEM_ID [%Y-%m-%d|%Y-%m-%dT%H:%M:%S|%Y-%m-%d\n",
    "                      %H:%M:%S] COG_PATH COLLECTION_ID\n",
    "\n",
    "Options:\n",
    "  --eo-data PATH       Path to JSON containing information to fill in the EO\n",
    "                       extension for this item. You can read more about the EO\n",
    "                       extension at https://github.com/stac-\n",
    "                       extensions/eo/tree/v1.0.0\n",
    "  --cloud-cover FLOAT  Estimated cloud cover of the image\n",
    "  --api-host TEXT      The root of the STAC API you'd like to interact with.\n",
    "                       Defaults to localhost:9090\n",
    "  --api-scheme TEXT    The scheme to use for API communication. Defaults to\n",
    "                       http\n",
    "  --help               Show this message and exit.\n",
    "```\n",
    "\n",
    "The required options for an item are an id, a date time, a path to a COG that you can read, and a collection to hold the item. While you could create a scene outside of a project in Raster Foundry, in Franklin, **you cannot create an item outside of a collection**.\n",
    "\n",
    "Let's create two items, both of which point to COGs of Sentinel-2 imagery over the Canary Islands. You'll need to set an `AWS_PROFILE` environment variable to read the COGs linked here, but it doesn't matter which one."
   ]
  },
  {
   "cell_type": "code",
   "execution_count": 10,
   "id": "a08f6c50",
   "metadata": {},
   "outputs": [
    {
     "name": "stdout",
     "output_type": "stream",
     "text": [
      "Created item at /collections/demo-collection/items/demo-item-1\n"
     ]
    }
   ],
   "source": [
    "%%bash\n",
    "AWS_PROFILE=raster-foundry \\\n",
    "python ../create_item.py \\\n",
    "    demo-item-1 \\\n",
    "    2021-07-18 \\\n",
    "    s3://rasterfoundry-production-data-us-east-1/demo-cogs/s2-canary-islands-rgb-cog.tif \\\n",
    "    demo-collection"
   ]
  },
  {
   "cell_type": "code",
   "execution_count": 12,
   "id": "3db0a21f",
   "metadata": {},
   "outputs": [
    {
     "name": "stdout",
     "output_type": "stream",
     "text": [
      "Created item at /collections/demo-collection/items/demo-item-2\n"
     ]
    }
   ],
   "source": [
    "%%bash\n",
    "AWS_PROFILE=raster-foundry \\\n",
    "python ../create_item.py \\\n",
    "    demo-item-2 \\\n",
    "    2021-07-18 \\\n",
    "    s3://rasterfoundry-production-data-us-east-1/demo-cogs/s2-canary-islands-rgb-cog-2.tif \\\n",
    "    demo-collection"
   ]
  },
  {
   "cell_type": "markdown",
   "id": "fb10523a",
   "metadata": {},
   "source": [
    "After creating the items, we can verify that the collection knows about them by querying its `items` endpoint:"
   ]
  },
  {
   "cell_type": "code",
   "execution_count": 15,
   "id": "c1748455",
   "metadata": {},
   "outputs": [
    {
     "data": {
      "text/plain": [
       "{'type': 'FeatureCollection',\n",
       " 'features': [{'id': 'demo-item-1',\n",
       "   'stac_version': '1.0.0',\n",
       "   'stac_extensions': [],\n",
       "   'type': 'Feature',\n",
       "   'geometry': {'type': 'Polygon',\n",
       "    'coordinates': [[[-15.007324218750007, 27.91673955951151],\n",
       "      [-15.007324218750007, 28.94086176940554],\n",
       "      [-13.86478258094437, 28.94086176940554],\n",
       "      [-13.86478258094437, 27.91673955951151],\n",
       "      [-15.007324218750007, 27.91673955951151]]]},\n",
       "   'bbox': [-15.007324218750007,\n",
       "    27.91673955951151,\n",
       "    -13.86478258094437,\n",
       "    28.94086176940554],\n",
       "   'links': [{'href': 'http://localhost:9090/collections/demo-collection/items/demo-item-1/tiles',\n",
       "     'rel': 'tiles',\n",
       "     'type': 'application/json',\n",
       "     'title': 'Tile URLs for Item'},\n",
       "    {'href': 'http://localhost:9090/collections/demo-collection',\n",
       "     'rel': 'parent',\n",
       "     'type': 'application/json',\n",
       "     'title': 'Parent collection'},\n",
       "    {'href': 'http://localhost:9090',\n",
       "     'rel': 'root',\n",
       "     'type': 'application/json',\n",
       "     'title': 'Welcome to Franklin'}],\n",
       "   'assets': {'cog': {'href': 's3://rasterfoundry-production-data-us-east-1/demo-cogs/s2-canary-islands-rgb-cog.tif',\n",
       "     'title': 'COG',\n",
       "     'roles': ['data'],\n",
       "     'type': 'image/tiff; application=geotiff; profile=cloud-optimized'}},\n",
       "   'collection': 'demo-collection',\n",
       "   'properties': {'eo:cloud_cover': None, 'datetime': '2021-07-18T00:00:00Z'}},\n",
       "  {'id': 'demo-item-2',\n",
       "   'stac_version': '1.0.0',\n",
       "   'stac_extensions': [],\n",
       "   'type': 'Feature',\n",
       "   'geometry': {'type': 'Polygon',\n",
       "    'coordinates': [[[-17.072753906249986, 27.916783794831648],\n",
       "      [-17.072753906249986, 28.94086176940554],\n",
       "      [-15.908209708030807, 28.94086176940554],\n",
       "      [-15.908209708030807, 27.916783794831648],\n",
       "      [-17.072753906249986, 27.916783794831648]]]},\n",
       "   'bbox': [-17.072753906249986,\n",
       "    27.916783794831648,\n",
       "    -15.908209708030807,\n",
       "    28.94086176940554],\n",
       "   'links': [{'href': 'http://localhost:9090/collections/demo-collection/items/demo-item-2/tiles',\n",
       "     'rel': 'tiles',\n",
       "     'type': 'application/json',\n",
       "     'title': 'Tile URLs for Item'},\n",
       "    {'href': 'http://localhost:9090/collections/demo-collection',\n",
       "     'rel': 'parent',\n",
       "     'type': 'application/json',\n",
       "     'title': 'Parent collection'},\n",
       "    {'href': 'http://localhost:9090',\n",
       "     'rel': 'root',\n",
       "     'type': 'application/json',\n",
       "     'title': 'Welcome to Franklin'}],\n",
       "   'assets': {'cog': {'href': 's3://rasterfoundry-production-data-us-east-1/demo-cogs/s2-canary-islands-rgb-cog-2.tif',\n",
       "     'title': 'COG',\n",
       "     'roles': ['data'],\n",
       "     'type': 'image/tiff; application=geotiff; profile=cloud-optimized'}},\n",
       "   'collection': 'demo-collection',\n",
       "   'properties': {'eo:cloud_cover': None,\n",
       "    'datetime': '2021-07-18T00:00:00Z'}}],\n",
       " 'links': [{'href': 'http://localhost:9090/collections/demo-collection/items?next=eyJ0aW1lc3RhbXBBdExlYXN0IjoiMjAyMS0wNy0yMFQyMjo1MTowMC4wNjI3NzRaIiwic2VyaWFsSWRHcmVhdGVyVGhhbiI6NX0=&limit=30',\n",
       "   'rel': 'next',\n",
       "   'type': 'application/json'}]}"
      ]
     },
     "execution_count": 15,
     "metadata": {},
     "output_type": "execute_result"
    }
   ],
   "source": [
    "resp = requests.get(\"http://localhost:9090/collections/demo-collection/items\").json()\n",
    "resp"
   ]
  },
  {
   "cell_type": "markdown",
   "id": "9e548399",
   "metadata": {},
   "source": [
    "And if we're specifically interested in the `assets` each item has, we can extract that information from the response's `features` key:"
   ]
  },
  {
   "cell_type": "code",
   "execution_count": 16,
   "id": "83383d53",
   "metadata": {},
   "outputs": [
    {
     "data": {
      "text/plain": [
       "[{'cog': {'href': 's3://rasterfoundry-production-data-us-east-1/demo-cogs/s2-canary-islands-rgb-cog.tif',\n",
       "   'title': 'COG',\n",
       "   'roles': ['data'],\n",
       "   'type': 'image/tiff; application=geotiff; profile=cloud-optimized'}},\n",
       " {'cog': {'href': 's3://rasterfoundry-production-data-us-east-1/demo-cogs/s2-canary-islands-rgb-cog-2.tif',\n",
       "   'title': 'COG',\n",
       "   'roles': ['data'],\n",
       "   'type': 'image/tiff; application=geotiff; profile=cloud-optimized'}}]"
      ]
     },
     "execution_count": 16,
     "metadata": {},
     "output_type": "execute_result"
    }
   ],
   "source": [
    "[x[\"assets\"] for x in resp[\"features\"]]"
   ]
  },
  {
   "cell_type": "markdown",
   "id": "3b14d8f5",
   "metadata": {},
   "source": [
    "## Viewing tiles\n",
    "\n",
    "Note that each of the items above has a key named `cog` in its `assets` property. Because items can have multiple assets, several of which can be tiled, Franklin requires one additional layer in order to produce tiles for a collection that wasn't required in Raster Foundry. This layer is a _mosaic definition_.\n",
    "\n",
    "A _mosaic definition_ is a JSON document that describes which images you want to contribute to the resulting tiles and offers some metadata that could be useful for clients.\n",
    "\n",
    "Here's an example document:\n",
    "\n",
    "```json\n",
    "{\n",
    "    \"id\": \"d9b4db0f-7d80-4d96-b176-15a1400c01de\",\n",
    "    \"description\": null,\n",
    "    \"center\": [\n",
    "        -16.16291,\n",
    "        28.2916,\n",
    "        14\n",
    "    ],\n",
    "    \"items\": [\n",
    "        {\n",
    "            \"itemId\": \"demo-item-1\",\n",
    "            \"assetName\": \"cog\"\n",
    "        },\n",
    "        {\n",
    "            \"itemId\": \"demo-item-2\",\n",
    "            \"assetName\": \"cog\"\n",
    "        }\n",
    "    ],\n",
    "    \"minZoom\": 2,\n",
    "    \"maxZoom\": 30,\n",
    "    \"bounds\": [\n",
    "        -180,\n",
    "        -90,\n",
    "        180,\n",
    "        90\n",
    "    ]\n",
    "}\n",
    "```\n",
    "\n",
    "The fields of a mosaic definition are:\n",
    "\n",
    "- `id`: a UUID. You can generate a UUID with the `uuid4` method in the `uuid` python library.\n",
    "- `description`: a textual description for humans. This information might be useful for clients to display information about what the layer represents.\n",
    "- `center`: a three-element array containing the recommended central longitude, central latitude, and zoom level. The first two values are floats, while the third must be an integer.\n",
    "- `items`: an array of `{\"itemId\": str, \"assetName\": str}` objects stating which assets in which items should contribute to the mosaic.\n",
    "- `minZoom` / `maxZoom`: the minimum and maximum [zoom levels](https://wiki.openstreetmap.org/wiki/Zoom_levels) at which it makes sense to view these data.\n",
    "- `bounds`: a bounding box describing where these tiles have coverage.\n",
    "\n",
    "You associate mosaic definitions with collections. Every item in the mosaic definition must be in the collection, and at the time that you create the mosaic definition the items in question must have the assets listed in the `items` property.\n",
    "\n",
    "You can create a mosaic definition with the `create_mosaic_definition.py` script:"
   ]
  }
 ],
 "metadata": {
  "kernelspec": {
   "display_name": "Python 3",
   "language": "python",
   "name": "python3"
  },
  "language_info": {
   "codemirror_mode": {
    "name": "ipython",
    "version": 3
   },
   "file_extension": ".py",
   "mimetype": "text/x-python",
   "name": "python",
   "nbconvert_exporter": "python",
   "pygments_lexer": "ipython3",
   "version": "3.8.5"
  }
 },
 "nbformat": 4,
 "nbformat_minor": 5
}
